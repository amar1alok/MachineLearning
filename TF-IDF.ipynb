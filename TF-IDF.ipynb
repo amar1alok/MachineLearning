{
 "cells": [
  {
   "cell_type": "code",
   "execution_count": 1,
   "id": "offensive-imperial",
   "metadata": {},
   "outputs": [],
   "source": [
    "import pandas as pd\n",
    "import numpy as np\n",
    "import string\n",
    "import nltk\n",
    "from nltk import word_tokenize\n",
    "from nltk.corpus import stopwords"
   ]
  },
  {
   "cell_type": "code",
   "execution_count": 2,
   "id": "scientific-union",
   "metadata": {},
   "outputs": [],
   "source": [
    "sentence1 = \"I am a good boy.\"\n",
    "sentence2 = \"I am a good girl.\"\n",
    "sentence3 = \"Boy and girl are good.\""
   ]
  },
  {
   "cell_type": "code",
   "execution_count": 3,
   "id": "organized-blame",
   "metadata": {},
   "outputs": [
    {
     "name": "stdout",
     "output_type": "stream",
     "text": [
      "['good', 'boy']\n",
      "['good', 'girl']\n",
      "['boy', 'girl', 'good']\n"
     ]
    }
   ],
   "source": [
    "s1 = []\n",
    "stop = set(stopwords.words('english') + list(string.punctuation))\n",
    "s1.append([i for i in word_tokenize(sentence1.lower()) if i not in stop])\n",
    "s1 = sum(s1,[])\n",
    "print(s1)\n",
    "\n",
    "s2 = []\n",
    "stop = set(stopwords.words('english') + list(string.punctuation))\n",
    "s2.append([i for i in word_tokenize(sentence2.lower()) if i not in stop])\n",
    "s2 = sum(s2,[])\n",
    "print(s2)\n",
    "\n",
    "s3= []\n",
    "stop = set(stopwords.words('english') + list(string.punctuation))\n",
    "s3.append([i for i in word_tokenize(sentence3.lower()) if i not in stop])\n",
    "s3 = sum(s3,[])\n",
    "print(s3)"
   ]
  },
  {
   "cell_type": "code",
   "execution_count": 4,
   "id": "fifteen-subcommittee",
   "metadata": {
    "scrolled": true
   },
   "outputs": [
    {
     "name": "stdout",
     "output_type": "stream",
     "text": [
      "{'girl', 'good', 'boy'}\n"
     ]
    }
   ],
   "source": [
    "s = list(set().union(s1,s2,s3))\n",
    "s = set(s)\n",
    "print(s)"
   ]
  },
  {
   "cell_type": "code",
   "execution_count": 5,
   "id": "deluxe-benchmark",
   "metadata": {},
   "outputs": [],
   "source": [
    "wordDictA = dict.fromkeys(s, 0) \n",
    "wordDictB = dict.fromkeys(s, 0)\n",
    "wordDictC = dict.fromkeys(s, 0) "
   ]
  },
  {
   "cell_type": "code",
   "execution_count": 6,
   "id": "educational-elevation",
   "metadata": {},
   "outputs": [],
   "source": [
    "for word in s1:\n",
    "    wordDictA[word]+=1\n",
    "    \n",
    "for word in s2:\n",
    "    wordDictB[word]+=1\n",
    "\n",
    "for word in s3:\n",
    "    wordDictC[word]+=1"
   ]
  },
  {
   "cell_type": "code",
   "execution_count": 7,
   "id": "cooperative-huntington",
   "metadata": {},
   "outputs": [
    {
     "name": "stdout",
     "output_type": "stream",
     "text": [
      "{'girl': 0, 'good': 1, 'boy': 1} {'girl': 1, 'good': 1, 'boy': 0} {'girl': 1, 'good': 1, 'boy': 1}\n"
     ]
    }
   ],
   "source": [
    "print(wordDictA, wordDictB, wordDictC)"
   ]
  },
  {
   "cell_type": "code",
   "execution_count": 8,
   "id": "developing-clark",
   "metadata": {},
   "outputs": [
    {
     "name": "stdout",
     "output_type": "stream",
     "text": [
      "   girl  good  boy\n",
      "0     0     1    1\n",
      "1     1     1    0\n",
      "2     1     1    1\n"
     ]
    }
   ],
   "source": [
    "freq = pd.DataFrame([wordDictA, wordDictB, wordDictC])\n",
    "print(freq.head())"
   ]
  },
  {
   "cell_type": "code",
   "execution_count": 9,
   "id": "portable-anime",
   "metadata": {},
   "outputs": [],
   "source": [
    "def computeTF(wordDict, s):\n",
    "    tfDict={}\n",
    "    s_length = len(s)\n",
    "    for word, count in wordDict.items():\n",
    "        tfDict[word] = count/float(s_length)\n",
    "    return tfDict"
   ]
  },
  {
   "cell_type": "code",
   "execution_count": 10,
   "id": "legislative-corrections",
   "metadata": {},
   "outputs": [],
   "source": [
    "tf_s1 = computeTF(wordDictA, s1)\n",
    "tf_s2 = computeTF(wordDictB, s2)\n",
    "tf_s3 = computeTF(wordDictC, s3)"
   ]
  },
  {
   "cell_type": "code",
   "execution_count": 11,
   "id": "roman-bennett",
   "metadata": {
    "scrolled": true
   },
   "outputs": [
    {
     "name": "stdout",
     "output_type": "stream",
     "text": [
      "       girl      good       boy\n",
      "0  0.000000  0.500000  0.500000\n",
      "1  0.500000  0.500000  0.000000\n",
      "2  0.333333  0.333333  0.333333\n"
     ]
    }
   ],
   "source": [
    "tf = pd.DataFrame([tf_s1, tf_s2, tf_s3])\n",
    "print(tf.head())"
   ]
  },
  {
   "cell_type": "code",
   "execution_count": 12,
   "id": "innovative-layer",
   "metadata": {},
   "outputs": [],
   "source": [
    "def computeIDF(docList):\n",
    "    import math\n",
    "    idfDict = {}\n",
    "    N = len(docList)\n",
    "    \n",
    "    idfDict = dict.fromkeys(docList[0].keys(), 0)\n",
    "    for doc in docList:\n",
    "        for word, val in doc.items():\n",
    "            if val > 0:\n",
    "                idfDict[word] += 1\n",
    "    \n",
    "    for word, val in idfDict.items():\n",
    "        idfDict[word] = math.log10(N / float(val))\n",
    "        \n",
    "    return idfDict"
   ]
  },
  {
   "cell_type": "code",
   "execution_count": 13,
   "id": "terminal-exception",
   "metadata": {},
   "outputs": [
    {
     "name": "stdout",
     "output_type": "stream",
     "text": [
      "{'girl': 0.17609125905568124, 'good': 0.0, 'boy': 0.17609125905568124}\n"
     ]
    }
   ],
   "source": [
    "idf = computeIDF([wordDictA, wordDictB, wordDictC])\n",
    "print(idf)"
   ]
  },
  {
   "cell_type": "code",
   "execution_count": 14,
   "id": "exact-colorado",
   "metadata": {},
   "outputs": [],
   "source": [
    "def computeTFIDF(tfBow, idfs):\n",
    "    tfidf = {}\n",
    "    for word, val in tfBow.items():\n",
    "        tfidf[word] = val*idfs[word]\n",
    "    return tfidf"
   ]
  },
  {
   "cell_type": "code",
   "execution_count": 15,
   "id": "matched-battle",
   "metadata": {},
   "outputs": [],
   "source": [
    "tfidf_s1 = computeTFIDF(tf_s1, idf)\n",
    "tfidf_s2 = computeTFIDF(tf_s2, idf)\n",
    "tfidf_s3 = computeTFIDF(tf_s3, idf)"
   ]
  },
  {
   "cell_type": "code",
   "execution_count": 16,
   "id": "arbitrary-console",
   "metadata": {},
   "outputs": [
    {
     "name": "stdout",
     "output_type": "stream",
     "text": [
      "       girl  good       boy\n",
      "0  0.000000   0.0  0.088046\n",
      "1  0.088046   0.0  0.000000\n",
      "2  0.058697   0.0  0.058697\n"
     ]
    }
   ],
   "source": [
    "tfidf = pd.DataFrame([tfidf_s1, tfidf_s2, tfidf_s3])\n",
    "print(tfidf.head())"
   ]
  }
 ],
 "metadata": {
  "kernelspec": {
   "display_name": "Python 3",
   "language": "python",
   "name": "python3"
  },
  "language_info": {
   "codemirror_mode": {
    "name": "ipython",
    "version": 3
   },
   "file_extension": ".py",
   "mimetype": "text/x-python",
   "name": "python",
   "nbconvert_exporter": "python",
   "pygments_lexer": "ipython3",
   "version": "3.9.2"
  }
 },
 "nbformat": 4,
 "nbformat_minor": 5
}
